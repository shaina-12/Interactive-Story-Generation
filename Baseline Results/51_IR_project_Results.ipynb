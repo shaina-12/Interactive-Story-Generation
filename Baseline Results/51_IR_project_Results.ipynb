{
  "nbformat": 4,
  "nbformat_minor": 0,
  "metadata": {
    "colab": {
      "provenance": [],
      "gpuType": "T4"
    },
    "kernelspec": {
      "name": "python3",
      "display_name": "Python 3"
    },
    "language_info": {
      "name": "python"
    },
    "accelerator": "GPU"
  },
  "cells": [
    {
      "cell_type": "code",
      "execution_count": 4,
      "metadata": {
        "colab": {
          "base_uri": "https://localhost:8080/"
        },
        "id": "9Hy9JA0zI6qD",
        "outputId": "824df70a-99f4-4993-fb2b-cb1f104ed17e"
      },
      "outputs": [
        {
          "output_type": "stream",
          "name": "stdout",
          "text": [
            "Requirement already satisfied: gpt-2-simple in /usr/local/lib/python3.10/dist-packages (0.8.1)\n",
            "Requirement already satisfied: tensorflow>=2.5.1 in /usr/local/lib/python3.10/dist-packages (from gpt-2-simple) (2.15.0)\n",
            "Requirement already satisfied: regex in /usr/local/lib/python3.10/dist-packages (from gpt-2-simple) (2023.12.25)\n",
            "Requirement already satisfied: requests in /usr/local/lib/python3.10/dist-packages (from gpt-2-simple) (2.31.0)\n",
            "Requirement already satisfied: tqdm in /usr/local/lib/python3.10/dist-packages (from gpt-2-simple) (4.66.2)\n",
            "Requirement already satisfied: numpy in /usr/local/lib/python3.10/dist-packages (from gpt-2-simple) (1.25.2)\n",
            "Requirement already satisfied: toposort in /usr/local/lib/python3.10/dist-packages (from gpt-2-simple) (1.10)\n",
            "Requirement already satisfied: absl-py>=1.0.0 in /usr/local/lib/python3.10/dist-packages (from tensorflow>=2.5.1->gpt-2-simple) (1.4.0)\n",
            "Requirement already satisfied: astunparse>=1.6.0 in /usr/local/lib/python3.10/dist-packages (from tensorflow>=2.5.1->gpt-2-simple) (1.6.3)\n",
            "Requirement already satisfied: flatbuffers>=23.5.26 in /usr/local/lib/python3.10/dist-packages (from tensorflow>=2.5.1->gpt-2-simple) (23.5.26)\n",
            "Requirement already satisfied: gast!=0.5.0,!=0.5.1,!=0.5.2,>=0.2.1 in /usr/local/lib/python3.10/dist-packages (from tensorflow>=2.5.1->gpt-2-simple) (0.5.4)\n",
            "Requirement already satisfied: google-pasta>=0.1.1 in /usr/local/lib/python3.10/dist-packages (from tensorflow>=2.5.1->gpt-2-simple) (0.2.0)\n",
            "Requirement already satisfied: h5py>=2.9.0 in /usr/local/lib/python3.10/dist-packages (from tensorflow>=2.5.1->gpt-2-simple) (3.9.0)\n",
            "Requirement already satisfied: libclang>=13.0.0 in /usr/local/lib/python3.10/dist-packages (from tensorflow>=2.5.1->gpt-2-simple) (16.0.6)\n",
            "Requirement already satisfied: ml-dtypes~=0.2.0 in /usr/local/lib/python3.10/dist-packages (from tensorflow>=2.5.1->gpt-2-simple) (0.2.0)\n",
            "Requirement already satisfied: opt-einsum>=2.3.2 in /usr/local/lib/python3.10/dist-packages (from tensorflow>=2.5.1->gpt-2-simple) (3.3.0)\n",
            "Requirement already satisfied: packaging in /usr/local/lib/python3.10/dist-packages (from tensorflow>=2.5.1->gpt-2-simple) (23.2)\n",
            "Requirement already satisfied: protobuf!=4.21.0,!=4.21.1,!=4.21.2,!=4.21.3,!=4.21.4,!=4.21.5,<5.0.0dev,>=3.20.3 in /usr/local/lib/python3.10/dist-packages (from tensorflow>=2.5.1->gpt-2-simple) (3.20.3)\n",
            "Requirement already satisfied: setuptools in /usr/local/lib/python3.10/dist-packages (from tensorflow>=2.5.1->gpt-2-simple) (67.7.2)\n",
            "Requirement already satisfied: six>=1.12.0 in /usr/local/lib/python3.10/dist-packages (from tensorflow>=2.5.1->gpt-2-simple) (1.16.0)\n",
            "Requirement already satisfied: termcolor>=1.1.0 in /usr/local/lib/python3.10/dist-packages (from tensorflow>=2.5.1->gpt-2-simple) (2.4.0)\n",
            "Requirement already satisfied: typing-extensions>=3.6.6 in /usr/local/lib/python3.10/dist-packages (from tensorflow>=2.5.1->gpt-2-simple) (4.10.0)\n",
            "Requirement already satisfied: wrapt<1.15,>=1.11.0 in /usr/local/lib/python3.10/dist-packages (from tensorflow>=2.5.1->gpt-2-simple) (1.14.1)\n",
            "Requirement already satisfied: tensorflow-io-gcs-filesystem>=0.23.1 in /usr/local/lib/python3.10/dist-packages (from tensorflow>=2.5.1->gpt-2-simple) (0.36.0)\n",
            "Requirement already satisfied: grpcio<2.0,>=1.24.3 in /usr/local/lib/python3.10/dist-packages (from tensorflow>=2.5.1->gpt-2-simple) (1.62.0)\n",
            "Requirement already satisfied: tensorboard<2.16,>=2.15 in /usr/local/lib/python3.10/dist-packages (from tensorflow>=2.5.1->gpt-2-simple) (2.15.2)\n",
            "Requirement already satisfied: tensorflow-estimator<2.16,>=2.15.0 in /usr/local/lib/python3.10/dist-packages (from tensorflow>=2.5.1->gpt-2-simple) (2.15.0)\n",
            "Requirement already satisfied: keras<2.16,>=2.15.0 in /usr/local/lib/python3.10/dist-packages (from tensorflow>=2.5.1->gpt-2-simple) (2.15.0)\n",
            "Requirement already satisfied: charset-normalizer<4,>=2 in /usr/local/lib/python3.10/dist-packages (from requests->gpt-2-simple) (3.3.2)\n",
            "Requirement already satisfied: idna<4,>=2.5 in /usr/local/lib/python3.10/dist-packages (from requests->gpt-2-simple) (3.6)\n",
            "Requirement already satisfied: urllib3<3,>=1.21.1 in /usr/local/lib/python3.10/dist-packages (from requests->gpt-2-simple) (2.0.7)\n",
            "Requirement already satisfied: certifi>=2017.4.17 in /usr/local/lib/python3.10/dist-packages (from requests->gpt-2-simple) (2024.2.2)\n",
            "Requirement already satisfied: wheel<1.0,>=0.23.0 in /usr/local/lib/python3.10/dist-packages (from astunparse>=1.6.0->tensorflow>=2.5.1->gpt-2-simple) (0.42.0)\n",
            "Requirement already satisfied: google-auth<3,>=1.6.3 in /usr/local/lib/python3.10/dist-packages (from tensorboard<2.16,>=2.15->tensorflow>=2.5.1->gpt-2-simple) (2.27.0)\n",
            "Requirement already satisfied: google-auth-oauthlib<2,>=0.5 in /usr/local/lib/python3.10/dist-packages (from tensorboard<2.16,>=2.15->tensorflow>=2.5.1->gpt-2-simple) (1.2.0)\n",
            "Requirement already satisfied: markdown>=2.6.8 in /usr/local/lib/python3.10/dist-packages (from tensorboard<2.16,>=2.15->tensorflow>=2.5.1->gpt-2-simple) (3.5.2)\n",
            "Requirement already satisfied: tensorboard-data-server<0.8.0,>=0.7.0 in /usr/local/lib/python3.10/dist-packages (from tensorboard<2.16,>=2.15->tensorflow>=2.5.1->gpt-2-simple) (0.7.2)\n",
            "Requirement already satisfied: werkzeug>=1.0.1 in /usr/local/lib/python3.10/dist-packages (from tensorboard<2.16,>=2.15->tensorflow>=2.5.1->gpt-2-simple) (3.0.1)\n",
            "Requirement already satisfied: cachetools<6.0,>=2.0.0 in /usr/local/lib/python3.10/dist-packages (from google-auth<3,>=1.6.3->tensorboard<2.16,>=2.15->tensorflow>=2.5.1->gpt-2-simple) (5.3.3)\n",
            "Requirement already satisfied: pyasn1-modules>=0.2.1 in /usr/local/lib/python3.10/dist-packages (from google-auth<3,>=1.6.3->tensorboard<2.16,>=2.15->tensorflow>=2.5.1->gpt-2-simple) (0.3.0)\n",
            "Requirement already satisfied: rsa<5,>=3.1.4 in /usr/local/lib/python3.10/dist-packages (from google-auth<3,>=1.6.3->tensorboard<2.16,>=2.15->tensorflow>=2.5.1->gpt-2-simple) (4.9)\n",
            "Requirement already satisfied: requests-oauthlib>=0.7.0 in /usr/local/lib/python3.10/dist-packages (from google-auth-oauthlib<2,>=0.5->tensorboard<2.16,>=2.15->tensorflow>=2.5.1->gpt-2-simple) (1.3.1)\n",
            "Requirement already satisfied: MarkupSafe>=2.1.1 in /usr/local/lib/python3.10/dist-packages (from werkzeug>=1.0.1->tensorboard<2.16,>=2.15->tensorflow>=2.5.1->gpt-2-simple) (2.1.5)\n",
            "Requirement already satisfied: pyasn1<0.6.0,>=0.4.6 in /usr/local/lib/python3.10/dist-packages (from pyasn1-modules>=0.2.1->google-auth<3,>=1.6.3->tensorboard<2.16,>=2.15->tensorflow>=2.5.1->gpt-2-simple) (0.5.1)\n",
            "Requirement already satisfied: oauthlib>=3.0.0 in /usr/local/lib/python3.10/dist-packages (from requests-oauthlib>=0.7.0->google-auth-oauthlib<2,>=0.5->tensorboard<2.16,>=2.15->tensorflow>=2.5.1->gpt-2-simple) (3.2.2)\n",
            "Requirement already satisfied: gpt-2-simple in /usr/local/lib/python3.10/dist-packages (0.8.1)\n",
            "Requirement already satisfied: tensorflow>=2.5.1 in /usr/local/lib/python3.10/dist-packages (from gpt-2-simple) (2.15.0)\n",
            "Requirement already satisfied: regex in /usr/local/lib/python3.10/dist-packages (from gpt-2-simple) (2023.12.25)\n",
            "Requirement already satisfied: requests in /usr/local/lib/python3.10/dist-packages (from gpt-2-simple) (2.31.0)\n",
            "Requirement already satisfied: tqdm in /usr/local/lib/python3.10/dist-packages (from gpt-2-simple) (4.66.2)\n",
            "Requirement already satisfied: numpy in /usr/local/lib/python3.10/dist-packages (from gpt-2-simple) (1.25.2)\n",
            "Requirement already satisfied: toposort in /usr/local/lib/python3.10/dist-packages (from gpt-2-simple) (1.10)\n",
            "Requirement already satisfied: absl-py>=1.0.0 in /usr/local/lib/python3.10/dist-packages (from tensorflow>=2.5.1->gpt-2-simple) (1.4.0)\n",
            "Requirement already satisfied: astunparse>=1.6.0 in /usr/local/lib/python3.10/dist-packages (from tensorflow>=2.5.1->gpt-2-simple) (1.6.3)\n",
            "Requirement already satisfied: flatbuffers>=23.5.26 in /usr/local/lib/python3.10/dist-packages (from tensorflow>=2.5.1->gpt-2-simple) (23.5.26)\n",
            "Requirement already satisfied: gast!=0.5.0,!=0.5.1,!=0.5.2,>=0.2.1 in /usr/local/lib/python3.10/dist-packages (from tensorflow>=2.5.1->gpt-2-simple) (0.5.4)\n",
            "Requirement already satisfied: google-pasta>=0.1.1 in /usr/local/lib/python3.10/dist-packages (from tensorflow>=2.5.1->gpt-2-simple) (0.2.0)\n",
            "Requirement already satisfied: h5py>=2.9.0 in /usr/local/lib/python3.10/dist-packages (from tensorflow>=2.5.1->gpt-2-simple) (3.9.0)\n",
            "Requirement already satisfied: libclang>=13.0.0 in /usr/local/lib/python3.10/dist-packages (from tensorflow>=2.5.1->gpt-2-simple) (16.0.6)\n",
            "Requirement already satisfied: ml-dtypes~=0.2.0 in /usr/local/lib/python3.10/dist-packages (from tensorflow>=2.5.1->gpt-2-simple) (0.2.0)\n",
            "Requirement already satisfied: opt-einsum>=2.3.2 in /usr/local/lib/python3.10/dist-packages (from tensorflow>=2.5.1->gpt-2-simple) (3.3.0)\n",
            "Requirement already satisfied: packaging in /usr/local/lib/python3.10/dist-packages (from tensorflow>=2.5.1->gpt-2-simple) (23.2)\n",
            "Requirement already satisfied: protobuf!=4.21.0,!=4.21.1,!=4.21.2,!=4.21.3,!=4.21.4,!=4.21.5,<5.0.0dev,>=3.20.3 in /usr/local/lib/python3.10/dist-packages (from tensorflow>=2.5.1->gpt-2-simple) (3.20.3)\n",
            "Requirement already satisfied: setuptools in /usr/local/lib/python3.10/dist-packages (from tensorflow>=2.5.1->gpt-2-simple) (67.7.2)\n",
            "Requirement already satisfied: six>=1.12.0 in /usr/local/lib/python3.10/dist-packages (from tensorflow>=2.5.1->gpt-2-simple) (1.16.0)\n",
            "Requirement already satisfied: termcolor>=1.1.0 in /usr/local/lib/python3.10/dist-packages (from tensorflow>=2.5.1->gpt-2-simple) (2.4.0)\n",
            "Requirement already satisfied: typing-extensions>=3.6.6 in /usr/local/lib/python3.10/dist-packages (from tensorflow>=2.5.1->gpt-2-simple) (4.10.0)\n",
            "Requirement already satisfied: wrapt<1.15,>=1.11.0 in /usr/local/lib/python3.10/dist-packages (from tensorflow>=2.5.1->gpt-2-simple) (1.14.1)\n",
            "Requirement already satisfied: tensorflow-io-gcs-filesystem>=0.23.1 in /usr/local/lib/python3.10/dist-packages (from tensorflow>=2.5.1->gpt-2-simple) (0.36.0)\n",
            "Requirement already satisfied: grpcio<2.0,>=1.24.3 in /usr/local/lib/python3.10/dist-packages (from tensorflow>=2.5.1->gpt-2-simple) (1.62.0)\n",
            "Requirement already satisfied: tensorboard<2.16,>=2.15 in /usr/local/lib/python3.10/dist-packages (from tensorflow>=2.5.1->gpt-2-simple) (2.15.2)\n",
            "Requirement already satisfied: tensorflow-estimator<2.16,>=2.15.0 in /usr/local/lib/python3.10/dist-packages (from tensorflow>=2.5.1->gpt-2-simple) (2.15.0)\n",
            "Requirement already satisfied: keras<2.16,>=2.15.0 in /usr/local/lib/python3.10/dist-packages (from tensorflow>=2.5.1->gpt-2-simple) (2.15.0)\n",
            "Requirement already satisfied: charset-normalizer<4,>=2 in /usr/local/lib/python3.10/dist-packages (from requests->gpt-2-simple) (3.3.2)\n",
            "Requirement already satisfied: idna<4,>=2.5 in /usr/local/lib/python3.10/dist-packages (from requests->gpt-2-simple) (3.6)\n",
            "Requirement already satisfied: urllib3<3,>=1.21.1 in /usr/local/lib/python3.10/dist-packages (from requests->gpt-2-simple) (2.0.7)\n",
            "Requirement already satisfied: certifi>=2017.4.17 in /usr/local/lib/python3.10/dist-packages (from requests->gpt-2-simple) (2024.2.2)\n",
            "Requirement already satisfied: wheel<1.0,>=0.23.0 in /usr/local/lib/python3.10/dist-packages (from astunparse>=1.6.0->tensorflow>=2.5.1->gpt-2-simple) (0.42.0)\n",
            "Requirement already satisfied: google-auth<3,>=1.6.3 in /usr/local/lib/python3.10/dist-packages (from tensorboard<2.16,>=2.15->tensorflow>=2.5.1->gpt-2-simple) (2.27.0)\n",
            "Requirement already satisfied: google-auth-oauthlib<2,>=0.5 in /usr/local/lib/python3.10/dist-packages (from tensorboard<2.16,>=2.15->tensorflow>=2.5.1->gpt-2-simple) (1.2.0)\n",
            "Requirement already satisfied: markdown>=2.6.8 in /usr/local/lib/python3.10/dist-packages (from tensorboard<2.16,>=2.15->tensorflow>=2.5.1->gpt-2-simple) (3.5.2)\n",
            "Requirement already satisfied: tensorboard-data-server<0.8.0,>=0.7.0 in /usr/local/lib/python3.10/dist-packages (from tensorboard<2.16,>=2.15->tensorflow>=2.5.1->gpt-2-simple) (0.7.2)\n",
            "Requirement already satisfied: werkzeug>=1.0.1 in /usr/local/lib/python3.10/dist-packages (from tensorboard<2.16,>=2.15->tensorflow>=2.5.1->gpt-2-simple) (3.0.1)\n",
            "Requirement already satisfied: cachetools<6.0,>=2.0.0 in /usr/local/lib/python3.10/dist-packages (from google-auth<3,>=1.6.3->tensorboard<2.16,>=2.15->tensorflow>=2.5.1->gpt-2-simple) (5.3.3)\n",
            "Requirement already satisfied: pyasn1-modules>=0.2.1 in /usr/local/lib/python3.10/dist-packages (from google-auth<3,>=1.6.3->tensorboard<2.16,>=2.15->tensorflow>=2.5.1->gpt-2-simple) (0.3.0)\n",
            "Requirement already satisfied: rsa<5,>=3.1.4 in /usr/local/lib/python3.10/dist-packages (from google-auth<3,>=1.6.3->tensorboard<2.16,>=2.15->tensorflow>=2.5.1->gpt-2-simple) (4.9)\n",
            "Requirement already satisfied: requests-oauthlib>=0.7.0 in /usr/local/lib/python3.10/dist-packages (from google-auth-oauthlib<2,>=0.5->tensorboard<2.16,>=2.15->tensorflow>=2.5.1->gpt-2-simple) (1.3.1)\n",
            "Requirement already satisfied: MarkupSafe>=2.1.1 in /usr/local/lib/python3.10/dist-packages (from werkzeug>=1.0.1->tensorboard<2.16,>=2.15->tensorflow>=2.5.1->gpt-2-simple) (2.1.5)\n",
            "Requirement already satisfied: pyasn1<0.6.0,>=0.4.6 in /usr/local/lib/python3.10/dist-packages (from pyasn1-modules>=0.2.1->google-auth<3,>=1.6.3->tensorboard<2.16,>=2.15->tensorflow>=2.5.1->gpt-2-simple) (0.5.1)\n",
            "Requirement already satisfied: oauthlib>=3.0.0 in /usr/local/lib/python3.10/dist-packages (from requests-oauthlib>=0.7.0->google-auth-oauthlib<2,>=0.5->tensorboard<2.16,>=2.15->tensorflow>=2.5.1->gpt-2-simple) (3.2.2)\n"
          ]
        }
      ],
      "source": [
        "!pip3 install gpt-2-simple\n",
        "!pip install gpt-2-simple"
      ]
    },
    {
      "cell_type": "code",
      "source": [
        "import zipfile\n",
        "import os\n",
        "\n",
        "# Path to the zip file\n",
        "zip_file_path = \"/content/drive/MyDrive/run3.zip\"\n",
        "\n",
        "# Directory where you want to extract the files\n",
        "extract_dir = \"/content/drive/MyDrive/run3\"\n",
        "\n",
        "# Create the extract directory if it doesn't exist\n",
        "os.makedirs(extract_dir, exist_ok=True)\n",
        "\n",
        "# Extract the zip file\n",
        "with zipfile.ZipFile(zip_file_path, 'r') as zip_ref:\n",
        "    zip_ref.extractall(extract_dir)\n",
        "\n",
        "print(\"Files extracted successfully.\")\n"
      ],
      "metadata": {
        "colab": {
          "base_uri": "https://localhost:8080/"
        },
        "id": "f7pHV9yRL94E",
        "outputId": "f175139b-0d88-4d4e-8dbf-b99ba6782314"
      },
      "execution_count": 5,
      "outputs": [
        {
          "output_type": "stream",
          "name": "stdout",
          "text": [
            "Files extracted successfully.\n"
          ]
        }
      ]
    },
    {
      "cell_type": "code",
      "source": [
        "!git clone https://github.com/openai/gpt-2.git\n"
      ],
      "metadata": {
        "colab": {
          "base_uri": "https://localhost:8080/"
        },
        "id": "B6UxkXsOMXgI",
        "outputId": "3043af5a-581c-4c57-9904-8087527b8a2c"
      },
      "execution_count": 6,
      "outputs": [
        {
          "output_type": "stream",
          "name": "stdout",
          "text": [
            "fatal: destination path 'gpt-2' already exists and is not an empty directory.\n"
          ]
        }
      ]
    },
    {
      "cell_type": "code",
      "source": [
        "%cd gpt-2"
      ],
      "metadata": {
        "colab": {
          "base_uri": "https://localhost:8080/"
        },
        "id": "ZQWY3MKLMo5J",
        "outputId": "57f64635-553f-4eb2-d4ac-55c321757f4d"
      },
      "execution_count": 7,
      "outputs": [
        {
          "output_type": "stream",
          "name": "stdout",
          "text": [
            "/content/gpt-2\n"
          ]
        }
      ]
    },
    {
      "cell_type": "code",
      "source": [
        "!python download_model.py 124M"
      ],
      "metadata": {
        "colab": {
          "base_uri": "https://localhost:8080/"
        },
        "id": "lc0TM2BZMuJX",
        "outputId": "229fd59a-bab8-42c3-c5ae-ab95a16726ec"
      },
      "execution_count": 8,
      "outputs": [
        {
          "output_type": "stream",
          "name": "stdout",
          "text": [
            "Fetching checkpoint: 1.00kit [00:00, 3.02Mit/s]                                                     \n",
            "Fetching encoder.json: 1.04Mit [00:00, 1.97Mit/s]                                                   \n",
            "Fetching hparams.json: 1.00kit [00:00, 5.61Mit/s]                                                   \n",
            "Fetching model.ckpt.data-00000-of-00001: 498Mit [00:18, 26.9Mit/s]                                  \n",
            "Fetching model.ckpt.index: 6.00kit [00:00, 16.4Mit/s]                                               \n",
            "Fetching model.ckpt.meta: 472kit [00:00, 1.60Mit/s]                                                 \n",
            "Fetching vocab.bpe: 457kit [00:00, 1.56Mit/s]                                                       \n"
          ]
        }
      ]
    },
    {
      "cell_type": "markdown",
      "source": [
        "# **Scary Story**"
      ],
      "metadata": {
        "id": "xT-eAH3EGLev"
      }
    },
    {
      "cell_type": "code",
      "source": [
        "import gpt_2_simple as gpt2\n",
        "\n",
        "# Start a TensorFlow session\n",
        "sess = gpt2.start_tf_sess()\n",
        "\n",
        "# Load the trained model with reuse=True\n",
        "gpt2.load_gpt2(sess, run_name='run1', checkpoint_dir=\"/content/drive/MyDrive/run1/run1\", model_name=\"124M\")\n",
        "\n",
        "# Provide a prompt for text generation\n",
        "prompt =\"Deep in the heart of the forest lies a grove untouched by sunlight, where the trees stand so close together that they block out the sky\"\n",
        "\n",
        "# Generate text based on the prompt\n",
        "gen_text = gpt2.generate(sess, run_name='run1', checkpoint_dir=\"/content/drive/MyDrive/run1/run1\", model_name=\"124M\", prefix=prompt, length=500, temperature=0.7, return_as_list=True)[0]\n",
        "\n",
        "print(gen_text)\n"
      ],
      "metadata": {
        "colab": {
          "base_uri": "https://localhost:8080/"
        },
        "id": "EC-52rfKQSJX",
        "outputId": "f991f5d8-3338-48ea-9ca1-13829f347c67"
      },
      "execution_count": 10,
      "outputs": [
        {
          "output_type": "stream",
          "name": "stdout",
          "text": [
            "Loading pretrained model models/124M/model.ckpt\n",
            "Deep in the heart of the forest lies a grove untouched by sunlight, where the trees stand so close together that they block out the sky. A small house lies on the edge of the grove, and the trees are fast growing. The path is a long way, but it is narrow enough that you can avoid the sun's glare as you walk.\n",
            "\n",
            "An old house was built in the forest, and the forest now has a small village. The city-state is not so different from those in the forest; the city-state is the wilds of the forest, and the cities are home to a few mortals.\n",
            "\n",
            "The village is an ancient, wealthy place, where the aristocracy, the nobles, the wealthy have spent their lives. The people live in a luxurious apartment complex, where they spend their days in a luxurious inn. The inn is a little luxurious, but it is a small one. The people also live in a luxurious mansion. The residents are extremely quite rich, and their lives are always very happy.\n",
            "\n",
            "A fine man named Pithy is a well-known man. He owns a piece of land in the forest, which he calls \"the land of the wisest.\" It is the land of the wisest people, who live in the houses of the wealthy nobles. The land is called \"the land of the wisest people.\"\n",
            "\n",
            "The land is not the land of the wisest people, but it is the land of the people, and they have a very fine life. The land is filled with life.\n",
            "\n",
            "A noble family lives in a splendid inn, where the people spend their days in a luxurious mansion. The mansion is a few hundred meters long and is not the full of luxury. The people only have a few servants, though, so there are many maids, cooks, and maids who work in the inn.\n",
            "\n",
            "The inn is a place of entertainment, where people enjoy the scenery and the people with strong feelings. The people who live here certainly do not have a great many leisure hours. The people who live here are very handsome. They are known for their luxury.\n",
            "\n",
            "This inn is not alone, but it does not boast of it, so you might think that this inn is too luxurious, but in reality, it is quite a fine place. If you want to make a splendid living in the forest, this inn is your only chance.\n",
            "\n",
            "Your first step towards becoming a man of the forest is to go to the forest. To get there, you must first go to the forest\n"
          ]
        }
      ]
    },
    {
      "cell_type": "markdown",
      "source": [
        "# **Humour Story**"
      ],
      "metadata": {
        "id": "FlHMoFq_GP98"
      }
    },
    {
      "cell_type": "code",
      "source": [
        "import gpt_2_simple as gpt2\n",
        "\n",
        "# Start a TensorFlow session\n",
        "sess = gpt2.start_tf_sess()\n",
        "\n",
        "# Load the trained model with reuse=True\n",
        "gpt2.load_gpt2(sess, run_name='run2', checkpoint_dir=\"/content/drive/MyDrive/run2/run2\", model_name=\"124M\",reuse=True)\n",
        "\n",
        "# Provide a prompt for text generation\n",
        "prompt = \"Gerald is a magician known for his incredible feats of magic, but he has one tiny problem ,he's incredibly forgetful\"\n",
        "\n",
        "# Generate text based on the prompt\n",
        "gen_text = gpt2.generate(sess, run_name='run2', checkpoint_dir=\"/content/drive/MyDrive/run2/run2\", model_name=\"124M\", prefix=prompt, length=500, temperature=0.7, return_as_list=True)[0]\n",
        "\n",
        "print(gen_text)"
      ],
      "metadata": {
        "colab": {
          "base_uri": "https://localhost:8080/"
        },
        "id": "uNHhxJk72QHm",
        "outputId": "ba271f4a-4da7-4fa0-96a0-5061f06f3f77"
      },
      "execution_count": 13,
      "outputs": [
        {
          "output_type": "stream",
          "name": "stdout",
          "text": [
            "Loading pretrained model models/124M/model.ckpt\n",
            "Gerald is a magician known for his incredible feats of magic, but he has one tiny problem ,he's incredibly forgetful and this will make him very difficult to take down. He has to create a new object that has the ability to destroy the glowing magical objects. When he creates a new object, he must first defeat an enemy who has the ability to destroy the object(s). Once the enemy is defeated, he can freely move around, and he can move around at will. The magic of stronger magic (such as the ability to summon a large number of demon beasts) is called the magic of peace. This is the magic that he uses to destroy the enemy.\n",
            "\n",
            "A wielder of this type can take the form of a humanoid, but when used properly, it can be summoned by a single person. A new creature that he summons is called a \"humanoid\".\n",
            "\n",
            "Magic Spell (Su): This spell destroys the object that it has been summoned to. The object must be of the same type used to create the new object. The object must be destroyed or its magic will be destroyed. When the object is destroyed, the magic is restored to the object's power level. As long as the object remains untouched, it cannot be summoned again.\n",
            "\n",
            "Holy Weapon (Su): It has the condition that the object must be of the same type as the one used to create it. A new weapon must be created by the wielder that the object is destroyed.\n",
            "\n",
            "Spell (Ex): This spell destroys all of the objects it has been summoned to, except objects that belong to a particular family.\n",
            "\n",
            "Spell (Ranged): This spell destroys the objects that it has been summoned to.\n",
            "\n",
            "Spell (Sorcery): When the magic of the new item is destroyed, the magic of the destroyed object changes to a new blessing. The blessing is called the \"great blessing\" or \"god blessing\".\n",
            "\n",
            "Spell (Sorcery): When the magic of the new object is destroyed, the magic of every target within 5 yards changes to a curse.\n",
            "\n",
            "Spell (Spell) (Su): The spell creates a new divine shield for the wielder. It uses the same strength and magic as a normal shield, but it also uses the same magic as a short sword and a shield of protection.\n",
            "\n",
            "Spell (Sorcery) (Ranged): The spell creates a new divine shield for the wielder. It uses the same strength and magic as a normal shield, but it also uses the same magic as a short sword and a shield of protection.\n"
          ]
        }
      ]
    },
    {
      "cell_type": "markdown",
      "source": [
        "# **Science Fiction Story**"
      ],
      "metadata": {
        "id": "8Ukp3YR2GYNr"
      }
    },
    {
      "cell_type": "code",
      "source": [
        "import gpt_2_simple as gpt2\n",
        "\n",
        "# Start a TensorFlow session\n",
        "sess = gpt2.start_tf_sess()\n",
        "\n",
        "# Load the trained model with reuse=True\n",
        "gpt2.load_gpt2(sess, run_name='run3', checkpoint_dir=\"/content/drive/MyDrive/run3/run3\", model_name=\"124M\",reuse=True)\n",
        "\n",
        "# Provide a prompt for text generation\n",
        "prompt = \"In the distant future, humanity has colonized countless worlds across the galaxy. Among these is a planet named Echo\"\n",
        "\n",
        "# Generate text based on the prompt\n",
        "gen_text = gpt2.generate(sess, run_name='run3', checkpoint_dir=\"/content/drive/MyDrive/run3/run3\", model_name=\"124M\", prefix=prompt, length=500, temperature=0.7, return_as_list=True)[0]\n",
        "\n",
        "print(gen_text)"
      ],
      "metadata": {
        "colab": {
          "base_uri": "https://localhost:8080/"
        },
        "id": "0o2nsUoYFW9I",
        "outputId": "f0c42a9d-fd9c-4eff-eb5a-a95c576c88b0"
      },
      "execution_count": 14,
      "outputs": [
        {
          "output_type": "stream",
          "name": "stdout",
          "text": [
            "Loading pretrained model models/124M/model.ckpt\n",
            "In the distant future, humanity has colonized countless worlds across the galaxy. Among these is a planet named Echo, which lies in the habitable zone of the Milky Way Galaxy. In the distant future, humanity has colonized countless worlds across the galaxy. Among these is a planet named Echo, which lies in the habitable zone of the Milky Way Galaxy. In the distant future, humanity has colonized countless worlds across the galaxy. Among these is a planet named Echo, which lies in the habitable zone of the Milky Way Galaxy.\n",
            "\n",
            "What will Echo do to the Earth?\n",
            "\n",
            "Through the space program, humanity has built a massive sentient lifeform known as Echo to serve as a host to their changes in attitude and behavior. Echo has also constructed and programmed a complex interface to allow it to function as an intelligent system for all time and space, allowing it to communicate with the other sentient lifeforms on the planet, as well as to its own group of connected biological probes in its own right.\n",
            "\n",
            "Can the Echo run out of fuel?\n",
            "\n",
            "Echo has been built and designed to withstand a range of environmental conditions, including the presence of the \"Fireball\" asteroid C-4, which has been discovered to act as a powerful weapon in the War on Terror. Echo has been built and designed to withstand a range of environmental conditions, including the presence of the \"Fireball\" asteroid C-4, which has been discovered to act as a powerful weapon in the War on Terror. Echo has been built and designed to withstand a range of environmental conditions, including the presence of the \"Fireball\" asteroid C-4, which has been discovered to act as a powerful weapon in the War on Terror.\n",
            "\n",
            "How will Echo interact with the human race?\n",
            "\n",
            "The human race is being invaded by a complex robot race known as the Artificial Intelligence Intelligence (AI). This race is able to manipulate sound and texture and interact with the human race through the use of its own machinery, specifically, the development of the Pioneer C-3 satellite. The AI's main goal is to create a human version of the Pioneer C-3. Echo is a technology that enables the AI to be used to project a human version of the Pioneer C-3 into orbit around the planet Echo.\n",
            "\n",
            "How will Echo interact with the human race?\n",
            "\n",
            "The AI's main goal is to create a human version of the Pioneer C-3. Echo is a technology that enables the AI to be used to project a human version of the Pioneer C-3 into orbit around the planet Echo.\n",
            "\n",
            "\n"
          ]
        }
      ]
    },
    {
      "cell_type": "code",
      "source": [
        "!pip install language-tool-python\n"
      ],
      "metadata": {
        "colab": {
          "base_uri": "https://localhost:8080/"
        },
        "id": "qxSzB2DDUjeR",
        "outputId": "842db695-757e-45a1-cb61-e7eed6e3f908"
      },
      "execution_count": 16,
      "outputs": [
        {
          "output_type": "stream",
          "name": "stdout",
          "text": [
            "Collecting language-tool-python\n",
            "  Downloading language_tool_python-2.7.1-py3-none-any.whl (34 kB)\n",
            "Requirement already satisfied: requests in /usr/local/lib/python3.10/dist-packages (from language-tool-python) (2.31.0)\n",
            "Requirement already satisfied: tqdm in /usr/local/lib/python3.10/dist-packages (from language-tool-python) (4.66.2)\n",
            "Requirement already satisfied: charset-normalizer<4,>=2 in /usr/local/lib/python3.10/dist-packages (from requests->language-tool-python) (3.3.2)\n",
            "Requirement already satisfied: idna<4,>=2.5 in /usr/local/lib/python3.10/dist-packages (from requests->language-tool-python) (3.6)\n",
            "Requirement already satisfied: urllib3<3,>=1.21.1 in /usr/local/lib/python3.10/dist-packages (from requests->language-tool-python) (2.0.7)\n",
            "Requirement already satisfied: certifi>=2017.4.17 in /usr/local/lib/python3.10/dist-packages (from requests->language-tool-python) (2024.2.2)\n",
            "Installing collected packages: language-tool-python\n",
            "Successfully installed language-tool-python-2.7.1\n"
          ]
        }
      ]
    },
    {
      "cell_type": "markdown",
      "source": [
        "# **For grammatical errors**"
      ],
      "metadata": {
        "id": "OSIg-JL3Gj05"
      }
    },
    {
      "cell_type": "code",
      "source": [
        "import language_tool_python\n",
        "\n",
        "def correct_grammar(text):\n",
        "    tool = language_tool_python.LanguageTool('en-US')\n",
        "    corrected_text = tool.correct(text)\n",
        "    return corrected_text\n",
        "\n",
        "text = \"\"\"\n",
        "In the distant future, humanity has colonized countless worlds across the galaxy. Among these is a planet named Echo, which lies in the habitable zone of the Milky Way Galaxy. In the distant future, humanity has colonized countless worlds across the galaxy. Among these is a planet named Echo, which lies in the habitable zone of the Milky Way Galaxy. In the distant future, humanity has colonized countless worlds across the galaxy. Among these is a planet named Echo, which lies in the habitable zone of the Milky Way Galaxy.\n",
        "\n",
        "What will Echo do to the Earth?\n",
        "\n",
        "Through the space program, humanity has built a massive sentient lifeform known as Echo to serve as a host to their changes in attitude and behavior. Echo has also constructed and programmed a complex interface to allow it to function as an intelligent system for all time and space, allowing it to communicate with the other sentient lifeforms on the planet, as well as to its own group of connected biological probes in its own right.\n",
        "\n",
        "Can the Echo run out of fuel?\n",
        "\n",
        "Echo has been built and designed to withstand a range of environmental conditions, including the presence of the \"Fireball\" asteroid C-4, which has been discovered to act as a powerful weapon in the War on Terror. Echo has been built and designed to withstand a range of environmental conditions, including the presence of the \"Fireball\" asteroid C-4, which has been discovered to act as a powerful weapon in the War on Terror. Echo has been built and designed to withstand a range of environmental conditions, including the presence of the \"Fireball\" asteroid C-4, which has been discovered to act as a powerful weapon in the War on Terror.\n",
        "\n",
        "How will Echo interact with the human race?\n",
        "\n",
        "The human race is being invaded by a complex robot race known as the Artificial Intelligence Intelligence (AI). This race is able to manipulate sound and texture and interact with the human race through the use of its own machinery, specifically, the development of the Pioneer C-3 satellite. The AI's main goal is to create a human version of the Pioneer C-3. Echo is a technology that enables the AI to be used to project a human version of the Pioneer C-3 into orbit around the planet Echo.\n",
        "\n",
        "How will Echo interact with the human race?\n",
        "\n",
        "The AI's main goal is to create a human version of the Pioneer C-3. Echo is a technology that enables the AI to be used to project a human version of the Pioneer C-3 into orbit around the planet Echo.\n",
        "\"\"\"\n",
        "corrected_text = correct_grammar(text)\n",
        "print(corrected_text)\n"
      ],
      "metadata": {
        "colab": {
          "base_uri": "https://localhost:8080/"
        },
        "id": "NYbNatbFUoe4",
        "outputId": "e711ae0e-d74a-481d-ec6b-751db036c62d"
      },
      "execution_count": 17,
      "outputs": [
        {
          "output_type": "stream",
          "name": "stderr",
          "text": [
            "Downloading LanguageTool 5.7: 100%|██████████| 225M/225M [00:11<00:00, 20.1MB/s]\n",
            "INFO:language_tool_python.download_lt:Unzipping /tmp/tmp7mhz0_yw.zip to /root/.cache/language_tool_python.\n",
            "INFO:language_tool_python.download_lt:Downloaded https://www.languagetool.org/download/LanguageTool-5.7.zip to /root/.cache/language_tool_python.\n"
          ]
        },
        {
          "output_type": "stream",
          "name": "stdout",
          "text": [
            "\n",
            "In the distant future, humanity has colonized countless worlds across the galaxy. Among This is a planet named Echo, which lies in the habitable zone of the Milky Way Galaxy. In the distant future, humanity has colonized countless worlds across the galaxy. Among This is a planet named Echo, which lies in the habitable zone of the Milky Way Galaxy. In the distant future, humanity has colonized countless worlds across the galaxy. Among This is a planet named Echo, which lies in the habitable zone of the Milky Way Galaxy.\n",
            "\n",
            "What will Echo do to the Earth?\n",
            "\n",
            "Through the space program, humanity has built a massive sentient lifeforms known as Echo to serve as a host to their changes in attitude and behavior. Echo has also constructed and programmed a complex interface to allow it to function as an intelligent system for all time and space, allowing it to communicate with the other sentient lifeforms on the planet, as well as to its own group of connected biological probes in its own right.\n",
            "\n",
            "Can the Echo run out of fuel?\n",
            "\n",
            "Echo has been built and designed to withstand a range of environmental conditions, including the presence of the \"Fireball\" asteroid C-4, which has been discovered to act as a powerful weapon in the War on Terror. Echo has been built and designed to withstand a range of environmental conditions, including the presence of the \"Fireball\" asteroid C-4, which has been discovered to act as a powerful weapon in the War on Terror. Echo has been built and designed to withstand a range of environmental conditions, including the presence of the \"Fireball\" asteroid C-4, which has been discovered to act as a powerful weapon in the War on Terror.\n",
            "\n",
            "How will Echo interact with the human race?\n",
            "\n",
            "The human race is being invaded by a complex robot race known as the Artificial Intelligence (AI). This race is able to manipulate sound and texture and interact with the human race through the use of its own machinery, specifically, the development of the Pioneer C-3 satellite. The AI's main goal is to create a human version of the Pioneer C-3. Echo is a technology that enables the AI to be used to project a human version of the Pioneer C-3 into orbit around the planet Echo.\n",
            "\n",
            "How will Echo interact with the human race?\n",
            "\n",
            "The AI's main goal is to create a human version of the Pioneer C-3. Echo is a technology that enables the AI to be used to project a human version of the Pioneer C-3 into orbit around the planet Echo.\n",
            "\n"
          ]
        }
      ]
    }
  ]
}