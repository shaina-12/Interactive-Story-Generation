{
  "nbformat": 4,
  "nbformat_minor": 0,
  "metadata": {
    "colab": {
      "provenance": []
    },
    "kernelspec": {
      "name": "python3",
      "display_name": "Python 3"
    },
    "language_info": {
      "name": "python"
    }
  },
  "cells": [
    {
      "cell_type": "code",
      "execution_count": null,
      "metadata": {
        "id": "eLIDkjY4BUEM"
      },
      "outputs": [],
      "source": [
        "import pandas as pd\n",
        "import json"
      ]
    },
    {
      "cell_type": "code",
      "source": [
        "dataset = pd.read_csv('/content/horror_story_test.csv')\n",
        "# dataset.head()"
      ],
      "metadata": {
        "id": "3H81hYulBehh"
      },
      "execution_count": null,
      "outputs": []
    },
    {
      "cell_type": "code",
      "source": [
        "data_dict = dataset.to_dict(orient='records')"
      ],
      "metadata": {
        "id": "PJXo0zhEBey9"
      },
      "execution_count": null,
      "outputs": []
    },
    {
      "cell_type": "code",
      "source": [
        "final_dict = []\n",
        "for i in range(len(data_dict)):\n",
        "  new_dict = {'messages':[{'role': 'system', 'content': 'You are a storyteller and you have to tell me a horror story'}]}\n",
        "  new_dict['messages'].append({'role':'user', 'content':data_dict[i]['User']})\n",
        "  new_dict['messages'].append({'role':'assistant', 'content':data_dict[i]['GPT']})\n",
        "  final_dict.append(new_dict)"
      ],
      "metadata": {
        "id": "AyGV0_gcCo1p"
      },
      "execution_count": null,
      "outputs": []
    },
    {
      "cell_type": "code",
      "source": [
        "with open(\"Horror Stories Test.json\", \"w\") as final:\n",
        "  json.dump(final_dict, final)"
      ],
      "metadata": {
        "id": "37d7FJOpEO-i"
      },
      "execution_count": null,
      "outputs": []
    }
  ]
}